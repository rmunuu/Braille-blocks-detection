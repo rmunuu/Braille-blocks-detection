{
 "cells": [
  {
   "cell_type": "code",
   "execution_count": null,
   "metadata": {},
   "outputs": [],
   "source": [
    "# !git clone https://github.com/AlexeyAB/darknet"
   ]
  },
  {
   "cell_type": "code",
   "execution_count": 1,
   "metadata": {},
   "outputs": [
    {
     "name": "stdout",
     "output_type": "stream",
     "text": [
      "c:\\Users\\User\\Desktop\\학교\\_3-1\\컴과프\\project\\darknet\n"
     ]
    }
   ],
   "source": [
    "cd darknet"
   ]
  },
  {
   "cell_type": "code",
   "execution_count": 3,
   "metadata": {},
   "outputs": [
    {
     "name": "stderr",
     "output_type": "stream",
     "text": [
      "'.'��(��) ���� �Ǵ� �ܺ� ����, ������ �� �ִ� ���α׷�, �Ǵ�\n",
      "��ġ ������ �ƴմϴ�.\n"
     ]
    }
   ],
   "source": [
    "!./darknet detect yolov4-tiny-custom.cfg backup/yolov4-tiny-custom_last.weights test2.jpg"
   ]
  },
  {
   "cell_type": "code",
   "execution_count": 5,
   "metadata": {},
   "outputs": [
    {
     "name": "stdout",
     "output_type": "stream",
     "text": [
      "c:\\Users\\User\\Desktop\\학교\\_3-1\\컴과프\\project\n"
     ]
    }
   ],
   "source": [
    "# cd .."
   ]
  },
  {
   "cell_type": "code",
   "execution_count": 6,
   "metadata": {},
   "outputs": [
    {
     "name": "stderr",
     "output_type": "stream",
     "text": [
      "'.'��(��) ���� �Ǵ� �ܺ� ����, ������ �� �ִ� ���α׷�, �Ǵ�\n",
      "��ġ ������ �ƴմϴ�.\n"
     ]
    }
   ],
   "source": [
    "# !./darknet/darknet detect yolov4-tiny-custom.cfg yolov4-tiny-custom_last.weights test2.jpg"
   ]
  },
  {
   "cell_type": "code",
   "execution_count": 18,
   "metadata": {},
   "outputs": [
    {
     "name": "stdout",
     "output_type": "stream",
     "text": [
      " C ����̺��� �������� �̸��� �����ϴ�.\n",
      " ���� �Ϸ� ��ȣ: DC02-0EFB\n",
      "\n",
      " c:\\Users\\User\\Desktop\\�б�\\_3-1\\�İ���\\project\\darknet ���͸�\n",
      "\n",
      "2024-06-03  ���� 09:21    <DIR>          .\n",
      "2024-06-03  ���� 09:21    <DIR>          ..\n",
      "2024-06-03  ���� 09:01    <DIR>          .circleci\n",
      "2024-06-03  ���� 09:01    <DIR>          .github\n",
      "2024-06-03  ���� 09:01               785 .gitignore\n",
      "2024-06-03  ���� 09:01    <DIR>          3rdparty\n",
      "2024-06-03  ���� 09:01    <DIR>          build\n",
      "2024-06-03  ���� 09:01            46,163 build.ps1\n",
      "2024-06-03  ���� 09:01    <DIR>          cfg\n",
      "2024-06-03  ���� 09:01    <DIR>          cmake\n",
      "2024-06-03  ���� 09:01            30,556 CMakeLists.txt\n",
      "2024-06-03  ���� 09:03         4,957,480 darknet\n",
      "2024-06-03  ���� 09:01            11,466 darknet.py\n",
      "2024-06-03  ���� 09:01             9,796 darknet_images.py\n",
      "2024-06-03  ���� 09:01             8,213 darknet_video.py\n",
      "2024-06-03  ���� 09:01             1,543 DarknetConfig.cmake.in\n",
      "2024-06-03  ���� 09:01    <DIR>          data\n",
      "2024-06-03  ���� 09:01               386 docker-compose.yml\n",
      "2024-06-03  ���� 09:01               821 Dockerfile.cpu\n",
      "2024-06-03  ���� 09:01               881 Dockerfile.gpu\n",
      "2024-06-03  ���� 09:01               116 image_yolov3.sh\n",
      "2024-06-03  ���� 09:01               116 image_yolov4.sh\n",
      "2024-06-03  ���� 09:01    <DIR>          include\n",
      "2024-06-03  ���� 09:01               351 json_mjpeg_streams.sh\n",
      "2024-06-03  ���� 09:01               527 LICENSE\n",
      "2024-06-03  ���� 09:01             6,841 Makefile\n",
      "2024-06-03  ���� 09:01               165 net_cam_v3.sh\n",
      "2024-06-03  ���� 09:01               165 net_cam_v4.sh\n",
      "2024-06-03  ���� 09:01               738 package.xml\n",
      "2024-06-03  ���� 09:01            68,620 README.md\n",
      "2024-06-03  ���� 09:01    <DIR>          scripts\n",
      "2024-06-03  ���� 09:01    <DIR>          src\n",
      "2024-05-31  ���� 01:40         3,656,198 test1.jpg\n",
      "2024-06-03  ���� 09:01             3,048 vcpkg.json\n",
      "2024-06-03  ���� 09:01             2,950 vcpkg.json.opencv23\n",
      "2024-06-03  ���� 09:01               114 video_yolov3.sh\n",
      "2024-06-03  ���� 09:01               114 video_yolov4.sh\n",
      "2024-06-02  ���� 06:44             3,016 yolov4-tiny-custom.cfg\n",
      "2024-06-02  ���� 06:46        23,530,556 yolov4-tiny-custom_last.weights\n",
      "              27�� ����          32,341,725 ����Ʈ\n",
      "              12�� ���͸�  113,755,979,776 ����Ʈ ����\n"
     ]
    }
   ],
   "source": [
    "ls"
   ]
  },
  {
   "cell_type": "code",
   "execution_count": 25,
   "metadata": {},
   "outputs": [
    {
     "name": "stdout",
     "output_type": "stream",
     "text": [
      " C ����̺��� �������� �̸��� �����ϴ�.\n",
      " ���� �Ϸ� ��ȣ: DC02-0EFB\n",
      "\n",
      " c:\\Users\\User\\Desktop\\�б�\\_3-1\\�İ���\\project\\darknet ���͸�\n",
      "\n",
      "2024-06-03  ���� 10:04    <DIR>          .\n",
      "2024-06-03  ���� 09:40    <DIR>          ..\n",
      "2024-06-03  ���� 09:01    <DIR>          .circleci\n",
      "2024-06-03  ���� 09:01    <DIR>          .github\n",
      "2024-06-03  ���� 09:01               785 .gitignore\n",
      "2024-06-03  ���� 09:01    <DIR>          3rdparty\n",
      "2024-06-03  ���� 09:01    <DIR>          build\n",
      "2024-06-03  ���� 09:01            46,163 build.ps1\n",
      "2024-06-03  ���� 09:01    <DIR>          cfg\n",
      "2024-06-03  ���� 09:01    <DIR>          cmake\n",
      "2024-06-03  ���� 09:01            30,556 CMakeLists.txt\n",
      "2024-06-03  ���� 09:01            11,466 darknet.py\n",
      "2024-06-03  ���� 09:01             9,796 darknet_images.py\n",
      "2024-06-03  ���� 09:01             8,213 darknet_video.py\n",
      "2024-06-03  ���� 09:01             1,543 DarknetConfig.cmake.in\n",
      "2024-06-03  ���� 09:01    <DIR>          data\n",
      "2024-06-03  ���� 09:01               386 docker-compose.yml\n",
      "2024-06-03  ���� 09:01               821 Dockerfile.cpu\n",
      "2024-06-03  ���� 09:01               881 Dockerfile.gpu\n",
      "2024-06-03  ���� 09:01               116 image_yolov3.sh\n",
      "2024-06-03  ���� 09:01               116 image_yolov4.sh\n",
      "2024-06-03  ���� 09:01    <DIR>          include\n",
      "2024-06-03  ���� 09:01               351 json_mjpeg_streams.sh\n",
      "2024-06-03  ���� 09:01               527 LICENSE\n",
      "2024-06-03  ���� 09:01             6,841 Makefile\n",
      "2024-06-03  ���� 09:01               165 net_cam_v3.sh\n",
      "2024-06-03  ���� 09:01               165 net_cam_v4.sh\n",
      "2024-06-03  ���� 09:01               738 package.xml\n",
      "2024-06-03  ���� 09:01            68,620 README.md\n",
      "2024-06-03  ���� 09:01    <DIR>          scripts\n",
      "2024-06-03  ���� 09:01    <DIR>          src\n",
      "2024-05-31  ���� 01:40         3,656,198 test1.jpg\n",
      "2024-06-03  ���� 09:01             3,048 vcpkg.json\n",
      "2024-06-03  ���� 09:01             2,950 vcpkg.json.opencv23\n",
      "2024-06-03  ���� 09:01               114 video_yolov3.sh\n",
      "2024-06-03  ���� 09:01               114 video_yolov4.sh\n",
      "2024-06-02  ���� 06:44             3,016 yolov4-tiny-custom.cfg\n",
      "2024-06-02  ���� 06:46        23,530,556 yolov4-tiny-custom_last.weights\n",
      "              26�� ����          27,384,245 ����Ʈ\n",
      "              12�� ���͸�  113,713,627,136 ����Ʈ ����\n"
     ]
    }
   ],
   "source": [
    "ls"
   ]
  },
  {
   "cell_type": "code",
   "execution_count": null,
   "metadata": {},
   "outputs": [],
   "source": []
  }
 ],
 "metadata": {
  "kernelspec": {
   "display_name": "opencv",
   "language": "python",
   "name": "python3"
  },
  "language_info": {
   "codemirror_mode": {
    "name": "ipython",
    "version": 3
   },
   "file_extension": ".py",
   "mimetype": "text/x-python",
   "name": "python",
   "nbconvert_exporter": "python",
   "pygments_lexer": "ipython3",
   "version": "3.9.19"
  }
 },
 "nbformat": 4,
 "nbformat_minor": 2
}
