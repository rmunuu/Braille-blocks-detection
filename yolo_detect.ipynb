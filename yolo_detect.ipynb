{
  "cells": [
    {
      "cell_type": "code",
      "execution_count": null,
      "metadata": {
        "colab": {
          "base_uri": "https://localhost:8080/"
        },
        "id": "HYfsN3QgZjkx",
        "outputId": "e8f848d7-ed04-4a73-c88c-c045ad814e29"
      },
      "outputs": [],
      "source": [
        "# !git clone https://github.com/AlexeyAB/darknet"
      ]
    },
    {
      "cell_type": "code",
      "execution_count": null,
      "metadata": {
        "colab": {
          "base_uri": "https://localhost:8080/"
        },
        "id": "JR32PpJavJZQ",
        "outputId": "ebe0c5fd-9559-4383-9ee0-d79a02a63881"
      },
      "outputs": [],
      "source": [
        "# from google.colab import drive\n",
        "# drive.mount('/content/drive')"
      ]
    },
    {
      "cell_type": "code",
      "execution_count": 1,
      "metadata": {},
      "outputs": [
        {
          "name": "stdout",
          "output_type": "stream",
          "text": [
            "c:\\Users\\User\\Desktop\\학교\\_3-1\\컴과프\\project\\model\\darknet\n"
          ]
        }
      ],
      "source": [
        "cd ./model/darknet"
      ]
    },
    {
      "cell_type": "code",
      "execution_count": null,
      "metadata": {},
      "outputs": [],
      "source": []
    },
    {
      "cell_type": "code",
      "execution_count": 2,
      "metadata": {
        "colab": {
          "base_uri": "https://localhost:8080/"
        },
        "id": "vfUk2AWrb3Rm",
        "outputId": "d623998e-c1e4-4304-ec25-2c79ae736f37"
      },
      "outputs": [
        {
          "name": "stdout",
          "output_type": "stream",
          "text": [
            "[Errno 2] No such file or directory: '/content/darknet/'\n",
            "/content\n",
            "sed: can't read Makefile: No such file or directory\n",
            "sed: can't read Makefile: No such file or directory\n",
            "sed: can't read Makefile: No such file or directory\n",
            "sed: can't read Makefile: No such file or directory\n",
            "make: *** No targets specified and no makefile found.  Stop.\n"
          ]
        }
      ],
      "source": [
        "# #install environment from the Makefile\n",
        "# #note if you are on Colab Pro this works on a P100 GPU\n",
        "# #if you are on Colab free, you may need to change the Makefile for the K80 GPU\n",
        "# #this goes for any GPU, you need to change the Makefile to inform darknet which GPU you are running on.\n",
        "# #note the Makefile above should work for you, if you need to tweak, try the below\n",
        "# %cd /content/darknet/\n",
        "# !sed -i 's/OPENCV=0/OPENCV=1/g' Makefile\n",
        "# !sed -i 's/GPU=0/GPU=1/g' Makefile\n",
        "# !sed -i 's/CUDNN=0/CUDNN=1/g' Makefile\n",
        "# !sed -i \"s/ARCH= -gencode arch=compute_60,code=sm_60/ARCH= ${ARCH_VALUE}/g\" Makefile\n",
        "# !make"
      ]
    },
    {
      "cell_type": "code",
      "execution_count": 13,
      "metadata": {
        "colab": {
          "base_uri": "https://localhost:8080/"
        },
        "id": "RpgPsRhUvoUN",
        "outputId": "67802f45-f85e-4a24-8981-7540fb7fd100"
      },
      "outputs": [
        {
          "name": "stdout",
          "output_type": "stream",
          "text": [
            "/content/drive/MyDrive/model/darknet\n"
          ]
        }
      ],
      "source": [
        "# cd /content/drive/MyDrive/model/darknet"
      ]
    },
    {
      "cell_type": "code",
      "execution_count": 16,
      "metadata": {
        "id": "feE9QwVN6O0r"
      },
      "outputs": [],
      "source": [
        "!chmod +x ./darknet"
      ]
    },
    {
      "cell_type": "code",
      "execution_count": 12,
      "metadata": {
        "colab": {
          "base_uri": "https://localhost:8080/"
        },
        "id": "pURCzpj2YhfZ",
        "outputId": "7c51aa7b-43cd-484f-c6cf-373d49ffe247"
      },
      "outputs": [
        {
          "name": "stderr",
          "output_type": "stream",
          "text": [
            "'.'��(��) ���� �Ǵ� �ܺ� ����, ������ �� �ִ� ���α׷�, �Ǵ�\n",
            "��ġ ������ �ƴմϴ�.\n"
          ]
        }
      ],
      "source": [
        "!./darknet detect yolov4-tiny-custom.cfg backup/yolov4-tiny-custom_last.weights test.jpg"
      ]
    },
    {
      "cell_type": "code",
      "execution_count": 10,
      "metadata": {
        "colab": {
          "base_uri": "https://localhost:8080/",
          "height": 473
        },
        "id": "p3QqgPMh_6Hh",
        "outputId": "33c034c5-c7a0-4997-a96b-8f57cdc30d60"
      },
      "outputs": [
        {
          "ename": "NameError",
          "evalue": "name 'show_detection' is not defined",
          "output_type": "error",
          "traceback": [
            "\u001b[1;31m---------------------------------------------------------------------------\u001b[0m",
            "\u001b[1;31mNameError\u001b[0m                                 Traceback (most recent call last)",
            "Input \u001b[1;32mIn [10]\u001b[0m, in \u001b[0;36m<cell line: 1>\u001b[1;34m()\u001b[0m\n\u001b[1;32m----> 1\u001b[0m \u001b[43mshow_detection\u001b[49m(\u001b[38;5;124m'\u001b[39m\u001b[38;5;124mpredictions.jpg\u001b[39m\u001b[38;5;124m'\u001b[39m)\n",
            "\u001b[1;31mNameError\u001b[0m: name 'show_detection' is not defined"
          ]
        }
      ],
      "source": [
        "show_detection('predictions.jpg')"
      ]
    },
    {
      "cell_type": "code",
      "execution_count": null,
      "metadata": {},
      "outputs": [],
      "source": []
    },
    {
      "cell_type": "code",
      "execution_count": 9,
      "metadata": {
        "id": "an6UT6u5__sY"
      },
      "outputs": [],
      "source": [
        "import cv2\n",
        "import matplotlib.pyplot as plt\n",
        "def show_detection(path):\n",
        "  image = cv2.imread(path)\n",
        "  fig = plt.gcf() #Get the current figure. 참고: https://matplotlib.org/stable/api/_as_gen/matplotlib.pyplot.gcf.html\n",
        "  fig.set_size_inches(10,10)\n",
        "  plt.axis('off') #축정보 생략\n",
        "  plt.imshow(cv2.cvtColor(image, cv2.COLOR_BGR2RGB)) #plt와 opencv는 채널이 역순임"
      ]
    },
    {
      "cell_type": "code",
      "execution_count": 9,
      "metadata": {
        "colab": {
          "base_uri": "https://localhost:8080/"
        },
        "id": "5t4xZO68Zh3W",
        "outputId": "5fffc442-d6a5-4f71-bbdb-cb470119ea2b"
      },
      "outputs": [
        {
          "name": "stdout",
          "output_type": "stream",
          "text": [
            "\u001b[0m\u001b[01;34m3rdparty\u001b[0m/               darknet.py          \u001b[01;32mjson_mjpeg_streams.sh\u001b[0m*  \u001b[01;34mscripts\u001b[0m/\n",
            "\u001b[01;34mbackup\u001b[0m/                 darknet_video.py    LICENSE                 \u001b[01;34msrc\u001b[0m/\n",
            "\u001b[01;34mbuild\u001b[0m/                  \u001b[01;34mdata\u001b[0m/               Makefile                test5.jpg\n",
            "\u001b[01;32mbuild.ps1\u001b[0m*              docker-compose.yml  \u001b[01;32mnet_cam_v3.sh\u001b[0m*          vcpkg.json\n",
            "\u001b[01;34mcfg\u001b[0m/                    Dockerfile.cpu      \u001b[01;32mnet_cam_v4.sh\u001b[0m*          vcpkg.json.opencv23\n",
            "\u001b[01;34mcmake\u001b[0m/                  Dockerfile.gpu      \u001b[01;34mobj\u001b[0m/                    \u001b[01;32mvideo_yolov3.sh\u001b[0m*\n",
            "CMakeLists.txt          \u001b[01;32mimage_yolov3.sh\u001b[0m*    package.xml             \u001b[01;32mvideo_yolov4.sh\u001b[0m*\n",
            "DarknetConfig.cmake.in  \u001b[01;32mimage_yolov4.sh\u001b[0m*    README.md               yolov4-tiny-custom.cfg\n",
            "darknet_images.py       \u001b[01;34minclude\u001b[0m/            \u001b[01;34mresults\u001b[0m/                yolov4-tiny-custom_last.weights\n"
          ]
        }
      ],
      "source": [
        "ls"
      ]
    },
    {
      "cell_type": "code",
      "execution_count": null,
      "metadata": {
        "id": "EO4Hv_kodihH"
      },
      "outputs": [],
      "source": []
    }
  ],
  "metadata": {
    "accelerator": "GPU",
    "colab": {
      "gpuType": "T4",
      "provenance": []
    },
    "kernelspec": {
      "display_name": "Python 3",
      "name": "python3"
    },
    "language_info": {
      "codemirror_mode": {
        "name": "ipython",
        "version": 3
      },
      "file_extension": ".py",
      "mimetype": "text/x-python",
      "name": "python",
      "nbconvert_exporter": "python",
      "pygments_lexer": "ipython3",
      "version": "3.9.19"
    }
  },
  "nbformat": 4,
  "nbformat_minor": 0
}
